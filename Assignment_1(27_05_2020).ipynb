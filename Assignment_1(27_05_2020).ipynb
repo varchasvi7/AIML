{
  "nbformat": 4,
  "nbformat_minor": 0,
  "metadata": {
    "kernelspec": {
      "display_name": "Python 3",
      "language": "python",
      "name": "python3"
    },
    "language_info": {
      "codemirror_mode": {
        "name": "ipython",
        "version": 3
      },
      "file_extension": ".py",
      "mimetype": "text/x-python",
      "name": "python",
      "nbconvert_exporter": "python",
      "pygments_lexer": "ipython3",
      "version": "3.7.3"
    },
    "colab": {
      "name": "Assignment 1(27-05-2020).ipynb",
      "provenance": [],
      "collapsed_sections": []
    }
  },
  "cells": [
    {
      "cell_type": "markdown",
      "metadata": {
        "id": "DQQjIjjn3Y_Y",
        "colab_type": "text"
      },
      "source": [
        "# cse-221710304015-D.VARCHASVI"
      ]
    },
    {
      "cell_type": "code",
      "metadata": {
        "id": "_CTHe3u-3Y_b",
        "colab_type": "code",
        "colab": {},
        "outputId": "f1ddab94-db75-4be8-b587-5a03057dac93"
      },
      "source": [
        "for i in range(0,5):\n",
        "    for j in range(0,i+1):\n",
        "        print(\"* \",end=\"\")\n",
        "    print(\"\\r\")"
      ],
      "execution_count": 0,
      "outputs": [
        {
          "output_type": "stream",
          "text": [
            "* \r\n",
            "* * \r\n",
            "* * * \r\n",
            "* * * * \r\n",
            "* * * * * \r\n"
          ],
          "name": "stdout"
        }
      ]
    },
    {
      "cell_type": "code",
      "metadata": {
        "id": "li6_GY703Y_j",
        "colab_type": "code",
        "colab": {},
        "outputId": "ee3818eb-6880-435d-cc2d-825872384738"
      },
      "source": [
        "k=int(input(\"enter value to show\"))\n",
        "n=int(input('enter range'))\n",
        "for i in range(1,n):\n",
        "    print(k,'*',i,'=',k*i)"
      ],
      "execution_count": 0,
      "outputs": [
        {
          "output_type": "stream",
          "text": [
            "enter value to show2\n",
            "enter range11\n",
            "2 * 1 = 2\n",
            "2 * 2 = 4\n",
            "2 * 3 = 6\n",
            "2 * 4 = 8\n",
            "2 * 5 = 10\n",
            "2 * 6 = 12\n",
            "2 * 7 = 14\n",
            "2 * 8 = 16\n",
            "2 * 9 = 18\n",
            "2 * 10 = 20\n"
          ],
          "name": "stdout"
        }
      ]
    },
    {
      "cell_type": "code",
      "metadata": {
        "id": "A5bf03SC3Y_o",
        "colab_type": "code",
        "colab": {},
        "outputId": "f02e124c-0f5c-4863-dc13-ba30b17901e6"
      },
      "source": [
        "n=int(input(''))\n",
        "f1=0\n",
        "f2=1\n",
        "if(n>1):\n",
        "    for x in range(0,n):\n",
        "        print(f2,end=',')\n",
        "        next=f1+f2\n",
        "        f1=f2\n",
        "        f2=next\n",
        "\n",
        "    "
      ],
      "execution_count": 0,
      "outputs": [
        {
          "output_type": "stream",
          "text": [
            "7\n",
            "1,1,2,3,5,8,13,"
          ],
          "name": "stdout"
        }
      ]
    },
    {
      "cell_type": "code",
      "metadata": {
        "id": "-izg7QgA3Y_u",
        "colab_type": "code",
        "colab": {},
        "outputId": "3f9328c3-b34e-4d61-dda9-5ec967e907a5"
      },
      "source": [
        "def binary(n):\n",
        "   if n > 1:\n",
        "       binary(n//2)\n",
        "   print(n % 2,end = '')\n",
        "d = int(input(\"enter decimal: \"))\n",
        "binary(d)\n",
        "print()"
      ],
      "execution_count": 0,
      "outputs": [
        {
          "output_type": "stream",
          "text": [
            "enter decimal: 6\n",
            "110\n"
          ],
          "name": "stdout"
        }
      ]
    },
    {
      "cell_type": "code",
      "metadata": {
        "id": "uCvM-UQX3Y_z",
        "colab_type": "code",
        "colab": {},
        "outputId": "1f687466-aae0-4005-bef3-89164476abf6"
      },
      "source": [
        "from math import sqrt\n",
        "a=float(input(\"a=  \"))\n",
        "b=float(input(\"b=  \"))\n",
        "c=float(input(\"c=  \"))\n",
        "r=b**2 - 4*a*c\n",
        "a1 =(((-b) + sqrt(r))/(2*a))     \n",
        "b1=(((-b) - sqrt(r))/(2*a))\n",
        "print(\"the roots are %f and %f\",a1,b1)"
      ],
      "execution_count": 0,
      "outputs": [
        {
          "output_type": "stream",
          "text": [
            "a=  1\n",
            "b=  5\n",
            "c=  6\n",
            "the roots are %f and %f -2.0 -3.0\n"
          ],
          "name": "stdout"
        }
      ]
    },
    {
      "cell_type": "code",
      "metadata": {
        "id": "J5zjNAzl3Y_5",
        "colab_type": "code",
        "colab": {}
      },
      "source": [
        ""
      ],
      "execution_count": 0,
      "outputs": []
    }
  ]
}
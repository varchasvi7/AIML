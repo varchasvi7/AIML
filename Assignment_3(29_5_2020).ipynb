{
  "nbformat": 4,
  "nbformat_minor": 0,
  "metadata": {
    "kernelspec": {
      "display_name": "Python 3",
      "language": "python",
      "name": "python3"
    },
    "language_info": {
      "codemirror_mode": {
        "name": "ipython",
        "version": 3
      },
      "file_extension": ".py",
      "mimetype": "text/x-python",
      "name": "python",
      "nbconvert_exporter": "python",
      "pygments_lexer": "ipython3",
      "version": "3.7.3"
    },
    "colab": {
      "name": "Assignment 3(29-5-2020).ipynb",
      "provenance": []
    }
  },
  "cells": [
    {
      "cell_type": "markdown",
      "metadata": {
        "id": "F7Nv-kQn4Huj",
        "colab_type": "text"
      },
      "source": [
        "# cse-221710304015-D.VARCHASVI\n",
        "\n"
      ]
    },
    {
      "cell_type": "code",
      "metadata": {
        "id": "w8IZ3UCZ4Hul",
        "colab_type": "code",
        "colab": {},
        "outputId": "51e0f661-c3c9-45ba-b92d-713b9d876cc9"
      },
      "source": [
        "#Create a function to find Factorial of a number using Recursion\n",
        "def factorial(x):\n",
        "    if x==1:\n",
        "        return 1\n",
        "    else:\n",
        "        return x*factorial(x-1)\n",
        "\n",
        "n=int(input(''))\n",
        "f=factorial(n)\n",
        "print (\"factorial  is \",f)"
      ],
      "execution_count": 0,
      "outputs": [
        {
          "output_type": "stream",
          "text": [
            "5\n",
            "factorial  is  120\n"
          ],
          "name": "stdout"
        }
      ]
    },
    {
      "cell_type": "code",
      "metadata": {
        "id": "T5aJepvP4Hut",
        "colab_type": "code",
        "colab": {},
        "outputId": "c5b059bd-ecdd-4a00-d6bd-5df434cbedaa"
      },
      "source": [
        "#Create a function and display ‘n’ Fibonacci numbers using Recursion\n",
        "def fib(n):  \n",
        "   if n <= 1:  \n",
        "       return n  \n",
        "   else:  \n",
        "       return(fib(n-1) + fib(n-2))  \n",
        "k= int(input(\"\"))  \n",
        "print(\"Fibonacci sequence:\")  \n",
        "for i in range (k):  \n",
        "       print(fib(i),end=\" \")  "
      ],
      "execution_count": 0,
      "outputs": [
        {
          "output_type": "stream",
          "text": [
            "5\n",
            "Fibonacci sequence:\n",
            "0 1 1 2 3 "
          ],
          "name": "stdout"
        }
      ]
    },
    {
      "cell_type": "code",
      "metadata": {
        "id": "tV7jzK_E4Huz",
        "colab_type": "code",
        "colab": {},
        "outputId": "d8a56ecd-4868-4f8e-dacd-b6c212cea8b0"
      },
      "source": [
        "#Print sum of list of elements without using sum() function\n",
        "num= []\n",
        "total = 0\n",
        "j = 0\n",
        "n = int(input(\"no ofelements \"))\n",
        "for i in range(1, n + 1):\n",
        "    value = int(input(\"enter values \" ))\n",
        "    num.append(value)\n",
        "\n",
        "while(j < n):\n",
        "    total = total + num[j]\n",
        "    j = j + 1\n",
        "print(\"sum of all elements is : \", total)"
      ],
      "execution_count": 0,
      "outputs": [
        {
          "output_type": "stream",
          "text": [
            "no ofelements 3\n",
            "enter values 1\n",
            "enter values 2\n",
            "enter values 3\n",
            "sum of all elements is :  6\n"
          ],
          "name": "stdout"
        }
      ]
    },
    {
      "cell_type": "code",
      "metadata": {
        "id": "3H3y_-jN4Hu5",
        "colab_type": "code",
        "colab": {},
        "outputId": "d95d719a-a972-4250-f951-9a3786ab2f72"
      },
      "source": [
        "#print only even numbers from the list\n",
        "num = []\n",
        "n = int(input(\"total number of elements : \"))\n",
        "for i in range(1, n + 1):\n",
        "    value = int(input(\"values are: \" ))\n",
        "    num.append(value)\n",
        "print(\"\\nEven Numbers are\")\n",
        "for j in range(n):\n",
        "    if(num[j] % 2 == 0):\n",
        "        print(num[j], end = '   ')\n",
        "            \n",
        "    "
      ],
      "execution_count": 0,
      "outputs": [
        {
          "output_type": "stream",
          "text": [
            "total number of elements : 5\n",
            "values are: 1\n",
            "values are: 2\n",
            "values are: 3\n",
            "values are: 4\n",
            "values are: 5\n",
            "\n",
            "Even Numbers are\n",
            "2   4   "
          ],
          "name": "stdout"
        }
      ]
    },
    {
      "cell_type": "code",
      "metadata": {
        "id": "dn3np0-j4HvA",
        "colab_type": "code",
        "colab": {},
        "outputId": "15086c25-fbe5-4795-811f-a780e02094db"
      },
      "source": [
        "#Write a Python program to get the smallest number from a list and display index of smallest element of the list\n",
        "\n",
        "list=[2,3,1,4,5]\n",
        "print(list.index(min(list)))\n",
        "print(min(list))"
      ],
      "execution_count": 0,
      "outputs": [
        {
          "output_type": "stream",
          "text": [
            "2\n",
            "1\n"
          ],
          "name": "stdout"
        }
      ]
    },
    {
      "cell_type": "code",
      "metadata": {
        "id": "jlfLTlNX4HvG",
        "colab_type": "code",
        "colab": {},
        "outputId": "63ffacc2-b189-4c67-9326-67286b9f67d8"
      },
      "source": [
        "#Write a Python function that checks whether a passed string is palindrome or not.\n",
        "def pal(s):\n",
        "    if len(s) < 1:\n",
        "        return True\n",
        "    else:\n",
        "        if s[0] == s[-1]:\n",
        "            return pal(s[1:-1])\n",
        "        else:\n",
        "            return False\n",
        "a=str(input(\"Enter string: \"))\n",
        "if(pal(a)==True):\n",
        "    print(\"it is palindrome\")\n",
        "else:\n",
        "    print(\"not a palindrome\")"
      ],
      "execution_count": 0,
      "outputs": [
        {
          "output_type": "stream",
          "text": [
            "Enter string: rrr\n",
            "it is palindrome\n"
          ],
          "name": "stdout"
        }
      ]
    },
    {
      "cell_type": "code",
      "metadata": {
        "id": "Mn6FOFcw4HvL",
        "colab_type": "code",
        "colab": {},
        "outputId": "44382a42-e836-43e9-eb5a-6ffe8e7beef3"
      },
      "source": [
        "#Write a Python program to count the number of even and odd numbers from a series of numbers. \n",
        "\n",
        "num=[]\n",
        "ecount = 0\n",
        "ocount = 0\n",
        "n = int(input(\"total number of elements \"))\n",
        "for i in range(1, n+ 1):\n",
        "    value = int(input(\"values are \"))\n",
        "    num.append(value)\n",
        "for j in range(n):\n",
        "    if(num[j] % 2 == 0):\n",
        "        ecount = ecount + 1\n",
        "    else:\n",
        "        ocount = ocount + 1\n",
        "\n",
        "print(\"total odd numbers =  \", ocount)\n",
        "print(\"total even numbers = \", ecount)"
      ],
      "execution_count": 0,
      "outputs": [
        {
          "output_type": "stream",
          "text": [
            "total number of elements 9\n",
            "values are 1\n",
            "values are 2\n",
            "values are 3\n",
            "values are 4\n",
            "values are 5\n",
            "values are 6\n",
            "values are 7\n",
            "values are 8\n",
            "values are 9\n",
            "total odd numbers =   5\n",
            "total even numbers =  4\n"
          ],
          "name": "stdout"
        }
      ]
    },
    {
      "cell_type": "code",
      "metadata": {
        "id": "Bej_DLgs4HvS",
        "colab_type": "code",
        "colab": {},
        "outputId": "2b069400-9348-45ce-b52d-054da5013fbd"
      },
      "source": [
        "#Write a Python program that prints all the numbers from 0 to 6 except 3 and 6.\n",
        "\n",
        "for x in range(6):\n",
        "    if (x == 3 or x==6):\n",
        "        continue\n",
        "    print(x,end=' ')\n"
      ],
      "execution_count": 0,
      "outputs": [
        {
          "output_type": "stream",
          "text": [
            "0 1 2 4 5 "
          ],
          "name": "stdout"
        }
      ]
    },
    {
      "cell_type": "code",
      "metadata": {
        "id": "uj5gEU9l4HvX",
        "colab_type": "code",
        "colab": {},
        "outputId": "e3529eab-24a6-4381-81c8-950574cae901"
      },
      "source": [
        "#Write a python function to check whether the given number is prime or not\n",
        "\n",
        "num = int(input(\"enter a number: \"))\n",
        "for i in range(2, num):\n",
        "    if num % i  == 0:\n",
        "        print(\"not prime number\")\n",
        "        break\n",
        "else:\n",
        "    print(\"prime number\")"
      ],
      "execution_count": 0,
      "outputs": [
        {
          "output_type": "stream",
          "text": [
            "enter a number: 5\n",
            "prime number\n"
          ],
          "name": "stdout"
        }
      ]
    },
    {
      "cell_type": "code",
      "metadata": {
        "id": "EyWukBTi4Hvd",
        "colab_type": "code",
        "colab": {},
        "outputId": "debb61fa-ecd6-4c46-875d-57563abeb6e2"
      },
      "source": [
        "#Write a python function to check whether the given number is Adam number or not\n",
        "\n",
        "n =input()\n",
        "rev=n[::-1]\n",
        "nsquare=int(n)**2\n",
        "revsquare=int(rev )**2\n",
        "if int(nsquare )==int(str(revsquare)[::-1]):\n",
        "   print(\" is a adam number\")\n",
        "else:\n",
        "   print(\" is not a adam number\")"
      ],
      "execution_count": 0,
      "outputs": [
        {
          "output_type": "stream",
          "text": [
            "12\n",
            " is a adam number\n"
          ],
          "name": "stdout"
        }
      ]
    },
    {
      "cell_type": "code",
      "metadata": {
        "id": "NzLPxmC74Hvj",
        "colab_type": "code",
        "colab": {}
      },
      "source": [
        ""
      ],
      "execution_count": 0,
      "outputs": []
    }
  ]
}
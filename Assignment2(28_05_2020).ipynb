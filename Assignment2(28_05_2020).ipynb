{
  "nbformat": 4,
  "nbformat_minor": 0,
  "metadata": {
    "kernelspec": {
      "display_name": "Python 3",
      "language": "python",
      "name": "python3"
    },
    "language_info": {
      "codemirror_mode": {
        "name": "ipython",
        "version": 3
      },
      "file_extension": ".py",
      "mimetype": "text/x-python",
      "name": "python",
      "nbconvert_exporter": "python",
      "pygments_lexer": "ipython3",
      "version": "3.7.3"
    },
    "colab": {
      "name": "Assignment2(28-05-2020).ipynb",
      "provenance": []
    }
  },
  "cells": [
    {
      "cell_type": "markdown",
      "metadata": {
        "id": "njqyFpzs30Oq",
        "colab_type": "text"
      },
      "source": [
        "# cse-221710304015-D.VARCHASVI"
      ]
    },
    {
      "cell_type": "code",
      "metadata": {
        "id": "tGsC5-XL30Os",
        "colab_type": "code",
        "colab": {},
        "outputId": "97bf9ac0-d085-4ffc-fd76-3a78cef3336e"
      },
      "source": [
        "#Read the input as two limits and Print the output as Palindrome count between the two limits\n",
        "\n",
        "def num_palindromes(start, end):\n",
        "    count = 0\n",
        "    for i in range(start, end + 1):\n",
        "        if str(i) == str(i)[::-1]:\n",
        "            count += 1\n",
        "    return count\n",
        "count = num_palindromes(1,100)\n",
        "print(count)"
      ],
      "execution_count": 0,
      "outputs": [
        {
          "output_type": "stream",
          "text": [
            "18\n"
          ],
          "name": "stdout"
        }
      ]
    },
    {
      "cell_type": "code",
      "metadata": {
        "id": "G01Qh4BX30O1",
        "colab_type": "code",
        "colab": {},
        "outputId": "8488d206-33fb-48e0-cc97-e5dd6fa91084"
      },
      "source": [
        "#Accept a number as an input and check whether the given number is palindrome or not\n",
        "\n",
        "n=int(input(\"enter number\"))\n",
        "s = 0\n",
        "while True:\n",
        "    k = str(n)\n",
        "    if k == k[::-1]:\n",
        "        print(k)\n",
        "        break\n",
        "    else:\n",
        "      m = int(k[::-1])\n",
        "      n += m\n",
        "      s += 1\n",
        "      print(k)\n"
      ],
      "execution_count": 0,
      "outputs": [
        {
          "output_type": "stream",
          "text": [
            "enter number127\n",
            "127\n",
            "848\n"
          ],
          "name": "stdout"
        }
      ]
    },
    {
      "cell_type": "code",
      "metadata": {
        "id": "IMRSA7yj30O6",
        "colab_type": "code",
        "colab": {},
        "outputId": "9da181db-d6e5-4342-8891-012527f9acd3"
      },
      "source": [
        "#Accept input as a string and display sum of digits as the output \n",
        "n=input('')\n",
        "sum= 0\n",
        "for x in n:\n",
        "    if x.isdigit() == True:\n",
        "            z = int(x)\n",
        "            sum= sum + z\n",
        "print(sum)\n",
        "        \n"
      ],
      "execution_count": 0,
      "outputs": [
        {
          "output_type": "stream",
          "text": [
            "Appli123cation456 \n",
            "21\n"
          ],
          "name": "stdout"
        }
      ]
    },
    {
      "cell_type": "code",
      "metadata": {
        "id": "wVbVgKY630PA",
        "colab_type": "code",
        "colab": {},
        "outputId": "cd426773-a763-4d32-f1a6-3215ca9d66a9"
      },
      "source": [
        "#Write a program to prompt for a score between 0.0 and 1.0. If the score is out of range, print an error. If the score is between 0.0 and 1.0, print a grade using the following table:\n",
        "\n",
        "score = float(input(\" \"))\n",
        "if score>1.0 or score<0.0 :\n",
        "    print(\"error\")\n",
        "elif score>=0.9 :\n",
        "    print ('A')\n",
        "elif score>=0.8 :\n",
        "    print( 'B')\n",
        "elif score>=0.7 :\n",
        "    print( 'C')\n",
        "elif score>=0.6 :\n",
        "    print( 'D')\n",
        "else :\n",
        "    print( 'F') "
      ],
      "execution_count": 0,
      "outputs": [
        {
          "output_type": "stream",
          "text": [
            " 0.85\n",
            "B\n"
          ],
          "name": "stdout"
        }
      ]
    },
    {
      "cell_type": "code",
      "metadata": {
        "id": "249-4ckj30PF",
        "colab_type": "code",
        "colab": {},
        "outputId": "8ab4332f-ae2d-445e-c752-f02b5a23bd79"
      },
      "source": [
        "#Write a Python program which iterates the integers from 1 to 50. For multiples of three print \"Fizz\" instead of the number and for the multiples of five print \"Buzz\". For numbers which are multiples of both three and five print \"FizzBuzz\".\n",
        "\n",
        "for fizzbuzz in range(6):\n",
        "    if fizzbuzz % 3 == 0 and fizzbuzz % 5 == 0:\n",
        "        print(\"fizzbuzz\")\n",
        "        continue\n",
        "    elif fizzbuzz % 3 == 0:\n",
        "        print(\"fizz\")\n",
        "        continue\n",
        "    elif fizzbuzz % 5 == 0:\n",
        "        print(\"buzz\")\n",
        "        continue\n",
        "    print(fizzbuzz)"
      ],
      "execution_count": 0,
      "outputs": [
        {
          "output_type": "stream",
          "text": [
            "fizzbuzz\n",
            "1\n",
            "2\n",
            "fizz\n",
            "4\n",
            "buzz\n"
          ],
          "name": "stdout"
        }
      ]
    },
    {
      "cell_type": "code",
      "metadata": {
        "id": "UCUea_Aj30PK",
        "colab_type": "code",
        "colab": {},
        "outputId": "414add37-823b-436a-8384-629f7d72dbdc"
      },
      "source": [
        "#Write a Python program to find the median of three values.\n",
        "a = int(input(\"num1\"))\n",
        "b = int(input(\"num2\"))\n",
        "c = int(input(\"num3\"))\n",
        "\n",
        "if b < a and a < c:\n",
        "    print(a)\n",
        "elif c < a and a < b:\n",
        "    print(a)\n",
        "    \n",
        "elif c < b and b < a:\n",
        "    print(b)\n",
        "elif a < b and b < c:\n",
        "    print(b)\n",
        "    \n",
        "elif b < c and c < a:\n",
        "    print(c)    \n",
        "elif a < c and c < b:\n",
        "    print(c)"
      ],
      "execution_count": 0,
      "outputs": [
        {
          "output_type": "stream",
          "text": [
            "num126\n",
            "num215\n",
            "num329\n",
            "26\n"
          ],
          "name": "stdout"
        }
      ]
    },
    {
      "cell_type": "code",
      "metadata": {
        "id": "PZw2_j_V30PP",
        "colab_type": "code",
        "colab": {},
        "outputId": "d849cd9e-60a8-4b53-9789-4233e7523782"
      },
      "source": [
        "str = input(\"Enter the string :\")\n",
        "vowels = 0\n",
        "consonants = 0\n",
        "symbols = 0\n",
        "str = str.lower()\n",
        "for i in range(0, len(str)):\n",
        "    if(str[i] == 'a'or str[i] == 'e' or str[i] == 'i'\n",
        "       or str[i] == 'o' or str[i] == 'u'):\n",
        "        vowels = vowels + 1\n",
        "    elif ((str[i] >= 'a'and str[i] <= 'z')):\n",
        "            consonants = consonants + 1\n",
        "    else:\n",
        "         symbols = symbols + 1\n",
        "print(\"vowels\" , vowels)\n",
        "print(\"Consonants:\", consonants)\n",
        "print(\"Symbols :\", symbols)\n",
        "\n",
        "\n",
        "        \n",
        "                       \n",
        "                       \n"
      ],
      "execution_count": 0,
      "outputs": [
        {
          "output_type": "stream",
          "text": [
            "Enter the string :aeoloh$\n",
            "vowels 4\n",
            "Consonants: 2\n",
            "Symbols : 1\n"
          ],
          "name": "stdout"
        }
      ]
    },
    {
      "cell_type": "code",
      "metadata": {
        "id": "gRTd8e5430PX",
        "colab_type": "code",
        "colab": {},
        "outputId": "b6ac9c83-a500-41be-82fb-597fcdf7324b"
      },
      "source": [
        "#input:orange  →   output : puboif\n",
        "value = 'orange'\n",
        "var=(chr(ord(value[0])+1))\n",
        "var1=(chr(ord(value[1])+3))\n",
        "var2=(chr(ord(value[2])+1))\n",
        "var3=(chr(ord(value[3])+1))\n",
        "var4=(chr(ord(value[4])+2))\n",
        "var5=(chr(ord(value[5])+1))\n",
        "value=var+var1+var2+var3+var4+var5\n",
        "print(value)"
      ],
      "execution_count": 0,
      "outputs": [
        {
          "output_type": "stream",
          "text": [
            "puboif\n"
          ],
          "name": "stdout"
        }
      ]
    },
    {
      "cell_type": "code",
      "metadata": {
        "id": "t2LuCP_630Pe",
        "colab_type": "code",
        "colab": {},
        "outputId": "e053d53a-c6eb-44a6-cc15-12bdcadeff1f"
      },
      "source": [
        "#count the no.of pairs of a in the given string(Infosys InfyTQ)\n",
        "str=input(\"enter string:  \")\n",
        "count=0\n",
        "i=0\n",
        "k=len(str)\n",
        "while i<k-1:\n",
        "    if(str[i]=='a'):\n",
        "        if(str[i+1]=='a'):\n",
        "            count+=1\n",
        "            i+=1\n",
        "    i+=1\n",
        "print(count)"
      ],
      "execution_count": 0,
      "outputs": [
        {
          "output_type": "stream",
          "text": [
            "enter string:  abbaaccbbaaa\n",
            "2\n"
          ],
          "name": "stdout"
        }
      ]
    },
    {
      "cell_type": "code",
      "metadata": {
        "id": "iFEVn0Q530Pi",
        "colab_type": "code",
        "colab": {},
        "outputId": "8a750013-e397-4cde-b1f9-3a44120fba4b"
      },
      "source": [
        "#Question 3:\n",
        "s=input(\"string : \")\n",
        "count=0\n",
        "i=0\n",
        "while i<(len(s)-1):\n",
        "    if(s[i]=='('):\n",
        "        count+=1\n",
        "    i+=1\n",
        "print(count)\n",
        "    \n",
        "        "
      ],
      "execution_count": 0,
      "outputs": [
        {
          "output_type": "stream",
          "text": [
            "string : ((((()()()))))()\n",
            "8\n"
          ],
          "name": "stdout"
        }
      ]
    },
    {
      "cell_type": "code",
      "metadata": {
        "id": "bdvFEnyd30Pm",
        "colab_type": "code",
        "colab": {}
      },
      "source": [
        ""
      ],
      "execution_count": 0,
      "outputs": []
    }
  ]
}
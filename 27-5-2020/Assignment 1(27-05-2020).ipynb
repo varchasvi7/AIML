{
 "cells": [
  {
   "cell_type": "markdown",
   "metadata": {},
   "source": [
    "# cse-221710304034-M.sailohith"
   ]
  },
  {
   "cell_type": "code",
   "execution_count": 1,
   "metadata": {},
   "outputs": [
    {
     "name": "stdout",
     "output_type": "stream",
     "text": [
      "* \r\n",
      "* * \r\n",
      "* * * \r\n",
      "* * * * \r\n",
      "* * * * * \r\n"
     ]
    }
   ],
   "source": [
    "for i in range(0,5):\n",
    "    for j in range(0,i+1):\n",
    "        print(\"* \",end=\"\")\n",
    "    print(\"\\r\")"
   ]
  },
  {
   "cell_type": "code",
   "execution_count": 2,
   "metadata": {},
   "outputs": [
    {
     "name": "stdout",
     "output_type": "stream",
     "text": [
      "enter value to show2\n",
      "enter range11\n",
      "2 * 1 = 2\n",
      "2 * 2 = 4\n",
      "2 * 3 = 6\n",
      "2 * 4 = 8\n",
      "2 * 5 = 10\n",
      "2 * 6 = 12\n",
      "2 * 7 = 14\n",
      "2 * 8 = 16\n",
      "2 * 9 = 18\n",
      "2 * 10 = 20\n"
     ]
    }
   ],
   "source": [
    "k=int(input(\"enter value to show\"))\n",
    "n=int(input('enter range'))\n",
    "for i in range(1,n):\n",
    "    print(k,'*',i,'=',k*i)"
   ]
  },
  {
   "cell_type": "code",
   "execution_count": 3,
   "metadata": {},
   "outputs": [
    {
     "name": "stdout",
     "output_type": "stream",
     "text": [
      "7\n",
      "1,1,2,3,5,8,13,"
     ]
    }
   ],
   "source": [
    "n=int(input(''))\n",
    "f1=0\n",
    "f2=1\n",
    "if(n>1):\n",
    "    for x in range(0,n):\n",
    "        print(f2,end=',')\n",
    "        next=f1+f2\n",
    "        f1=f2\n",
    "        f2=next\n",
    "\n",
    "    "
   ]
  },
  {
   "cell_type": "code",
   "execution_count": 4,
   "metadata": {},
   "outputs": [
    {
     "name": "stdout",
     "output_type": "stream",
     "text": [
      "enter decimal: 6\n",
      "110\n"
     ]
    }
   ],
   "source": [
    "def binary(n):\n",
    "   if n > 1:\n",
    "       binary(n//2)\n",
    "   print(n % 2,end = '')\n",
    "d = int(input(\"enter decimal: \"))\n",
    "binary(d)\n",
    "print()"
   ]
  },
  {
   "cell_type": "code",
   "execution_count": 7,
   "metadata": {},
   "outputs": [
    {
     "name": "stdout",
     "output_type": "stream",
     "text": [
      "a=  1\n",
      "b=  5\n",
      "c=  6\n",
      "the roots are %f and %f -2.0 -3.0\n"
     ]
    }
   ],
   "source": [
    "from math import sqrt\n",
    "a=float(input(\"a=  \"))\n",
    "b=float(input(\"b=  \"))\n",
    "c=float(input(\"c=  \"))\n",
    "r=b**2 - 4*a*c\n",
    "a1 =(((-b) + sqrt(r))/(2*a))     \n",
    "b1=(((-b) - sqrt(r))/(2*a))\n",
    "print(\"the roots are %f and %f\",a1,b1)"
   ]
  },
  {
   "cell_type": "code",
   "execution_count": null,
   "metadata": {},
   "outputs": [],
   "source": []
  }
 ],
 "metadata": {
  "kernelspec": {
   "display_name": "Python 3",
   "language": "python",
   "name": "python3"
  },
  "language_info": {
   "codemirror_mode": {
    "name": "ipython",
    "version": 3
   },
   "file_extension": ".py",
   "mimetype": "text/x-python",
   "name": "python",
   "nbconvert_exporter": "python",
   "pygments_lexer": "ipython3",
   "version": "3.7.3"
  }
 },
 "nbformat": 4,
 "nbformat_minor": 2
}
